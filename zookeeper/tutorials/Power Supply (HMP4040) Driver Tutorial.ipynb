{
 "cells": [
  {
   "cell_type": "markdown",
   "metadata": {},
   "source": [
    "# HMP4040 Power Supply\n",
    "\n",
    "The power supply class inherits the functionality of the SCPI_Instrument() and more.\n",
    "\n",
    "The following high level functionality has been written to allow for correct synchronisation of commands. If the user wants to use an unsupported SCPI command, it can still be accesses using hierarchial attribute access.\n",
    "\n",
    "For example:\n",
    "\n",
    "```python\n",
    "# create a short tone\n",
    "PSU.BEEP()\n",
    "```"
   ]
  },
  {
   "cell_type": "markdown",
   "metadata": {},
   "source": [
    "## Connecting to the power supply\n",
    "\n",
    "As long as the user knows the port to which the HMP4040 is connected to, setting up is simple.\n",
    "\n",
    "The connect function clears the device command queue and resets the command interface (standard startup procedure),"
   ]
  },
  {
   "cell_type": "code",
   "execution_count": 3,
   "metadata": {},
   "outputs": [],
   "source": [
    "import drivers\n",
    "\n",
    "PSU = drivers.HMP4040(port='ASRL/dev/ttyUSB0::INSTR')\n",
    "# connect to device\n",
    "PSU.connect()"
   ]
  },
  {
   "cell_type": "markdown",
   "metadata": {},
   "source": [
    "## Device Channels\n",
    "\n",
    "The HMP4040 has 4 channels. The voltage and current are configurable on each. To change channels, the class implements convenient getter and setter functions."
   ]
  },
  {
   "cell_type": "code",
   "execution_count": 4,
   "metadata": {},
   "outputs": [
    {
     "name": "stderr",
     "output_type": "stream",
     "text": [
      "WARNING:root:HM4040: Specified channel not available\n"
     ]
    },
    {
     "name": "stdout",
     "output_type": "stream",
     "text": [
      "Currently the device is configuring channel: 1\n",
      "Now the device is on channel: 2\n"
     ]
    }
   ],
   "source": [
    "# get the current channel\n",
    "PSU.channel\n",
    "print(f\"Currently the device is configuring channel: {PSU.channel}\")\n",
    "\n",
    "# change channel (1-4)\n",
    "PSU.channel = 2\n",
    "print(f\"Now the device is on channel: {PSU.channel}\")\n",
    "\n",
    "# specifying any channel outside of 1-4 will raise a warning\n",
    "PSU.channel = 5"
   ]
  },
  {
   "cell_type": "markdown",
   "metadata": {},
   "source": [
    "## Setting Channel Output\n",
    "\n",
    "The user can specify the voltage and current of the _selected_ channel using voltage and current setter/getter functions."
   ]
  },
  {
   "cell_type": "code",
   "execution_count": 5,
   "metadata": {},
   "outputs": [
    {
     "name": "stdout",
     "output_type": "stream",
     "text": [
      "The voltage on channel 2 is : 10.0 [V]\n",
      "The current on channel 2 is : 0.1 [A]\n"
     ]
    }
   ],
   "source": [
    "# set the voltage (0 - 32.05 V)\n",
    "PSU.voltage = 10\n",
    "print(f\"The voltage on channel {PSU.channel} is : {PSU.voltage} [V]\")\n",
    "# now set the current (0 - 10.01 A)\n",
    "PSU.current = 0.1\n",
    "print(f\"The current on channel {PSU.channel} is : {PSU.current} [A]\")"
   ]
  },
  {
   "cell_type": "markdown",
   "metadata": {},
   "source": [
    "## The configure_channel() method\n",
    "\n",
    "For convenience, the user can change the channel, voltage and current all at once using the `configure_channel()` method.\n",
    "\n",
    "`configure_channel()` takes one positional argument:\n",
    "\n",
    "- `channel` : int 1 - 4, None\n",
    "\n",
    "If `None` is specified, the channel adjusts for the current channel.\n",
    "\n",
    "The function takes two optional keyword arguments:\n",
    "\n",
    "- `voltage` : float 0 - 32.05\n",
    "- `current` : float 0 - 10.01"
   ]
  },
  {
   "cell_type": "code",
   "execution_count": 7,
   "metadata": {},
   "outputs": [
    {
     "name": "stdout",
     "output_type": "stream",
     "text": [
      "On channel 2\n",
      " current : 0.01\n",
      " voltage : 5.0\n"
     ]
    }
   ],
   "source": [
    "PSU.configure_channel(2, voltage=5, current=0.01)\n",
    "\n",
    "print(f\"On channel {PSU.channel}\\n \\\n",
    "current : {PSU.current}\\n \\\n",
    "voltage : {PSU.voltage}\")"
   ]
  },
  {
   "cell_type": "code",
   "execution_count": null,
   "metadata": {},
   "outputs": [],
   "source": [
    "PSU.current"
   ]
  },
  {
   "cell_type": "code",
   "execution_count": null,
   "metadata": {},
   "outputs": [],
   "source": []
  }
 ],
 "metadata": {
  "kernelspec": {
   "display_name": "Python 3",
   "language": "python",
   "name": "python3"
  },
  "language_info": {
   "codemirror_mode": {
    "name": "ipython",
    "version": 3
   },
   "file_extension": ".py",
   "mimetype": "text/x-python",
   "name": "python",
   "nbconvert_exporter": "python",
   "pygments_lexer": "ipython3",
   "version": "3.7.3"
  }
 },
 "nbformat": 4,
 "nbformat_minor": 2
}
