{
 "cells": [
  {
   "cell_type": "markdown",
   "metadata": {},
   "source": [
    "# KS33522B Signal Generator\n",
    "\n",
    "The signal generator inherits the functionality of the VISA_Instrument().\n",
    "\n",
    "The following high level functionality has been written to allow for correct synchronisation of commands. If the user wants to use an unsupported SCPI command, it can still be accesses using hierarchial attribute access.\n",
    "\n",
    "For example:\n",
    "\n",
    "```python\n",
    "# create a short tone\n",
    "SigGen.BEEP()\n",
    "```"
   ]
  },
  {
   "cell_type": "markdown",
   "metadata": {},
   "source": [
    "## Connecting to the KS33522B\n",
    "\n",
    "As long as the user knows the port to which the KS33522B is connected to, setting up is simple.\n",
    "\n",
    "The connect function clears the device command queue and resets the command interface (standard startup procedure).\n",
    "\n",
    "The KS33522B class automatically sets the special read and write termination values of the signal generator ('\\n') in the resource_params dict."
   ]
  },
  {
   "cell_type": "code",
   "execution_count": 1,
   "metadata": {},
   "outputs": [
    {
     "ename": "ModuleNotFoundError",
     "evalue": "No module named 'zookeeper'",
     "output_type": "error",
     "traceback": [
      "\u001b[1;31m---------------------------------------------------------------------------\u001b[0m",
      "\u001b[1;31mModuleNotFoundError\u001b[0m                       Traceback (most recent call last)",
      "\u001b[1;32m<ipython-input-1-3a9693a31bbe>\u001b[0m in \u001b[0;36m<module>\u001b[1;34m\u001b[0m\n\u001b[1;32m----> 1\u001b[1;33m \u001b[1;32mimport\u001b[0m \u001b[0mzookeeper\u001b[0m \u001b[1;32mas\u001b[0m \u001b[0mzk\u001b[0m\u001b[1;33m\u001b[0m\u001b[1;33m\u001b[0m\u001b[0m\n\u001b[0m\u001b[0;32m      2\u001b[0m \u001b[0mip\u001b[0m \u001b[1;33m=\u001b[0m \u001b[1;34m'10.1.80.44'\u001b[0m\u001b[1;33m\u001b[0m\u001b[1;33m\u001b[0m\u001b[0m\n\u001b[0;32m      3\u001b[0m \u001b[0mSigGen\u001b[0m \u001b[1;33m=\u001b[0m \u001b[0mzk\u001b[0m\u001b[1;33m.\u001b[0m\u001b[0mKS33522B\u001b[0m\u001b[1;33m(\u001b[0m\u001b[0mport\u001b[0m\u001b[1;33m=\u001b[0m\u001b[1;34mf'TCPIP::{ip}::5025::SOCKET'\u001b[0m\u001b[1;33m)\u001b[0m\u001b[1;33m\u001b[0m\u001b[1;33m\u001b[0m\u001b[0m\n\u001b[0;32m      4\u001b[0m \u001b[1;31m# connect to device\u001b[0m\u001b[1;33m\u001b[0m\u001b[1;33m\u001b[0m\u001b[1;33m\u001b[0m\u001b[0m\n\u001b[0;32m      5\u001b[0m \u001b[0mSigGen\u001b[0m\u001b[1;33m.\u001b[0m\u001b[0mconnect\u001b[0m\u001b[1;33m(\u001b[0m\u001b[1;33m)\u001b[0m\u001b[1;33m\u001b[0m\u001b[1;33m\u001b[0m\u001b[0m\n",
      "\u001b[1;31mModuleNotFoundError\u001b[0m: No module named 'zookeeper'"
     ]
    }
   ],
   "source": [
    "import zookeeper as zk\n",
    "ip = '10.1.80.44'\n",
    "SigGen = zk.KS33522B(port=f'TCPIP::{ip}::5025::SOCKET')\n",
    "# connect to device\n",
    "SigGen.connect()"
   ]
  },
  {
   "cell_type": "markdown",
   "metadata": {},
   "source": [
    "## Setting a Signal\n",
    "\n",
    "The KS33522B supports many signals (sine, ramp, triangle, etc)"
   ]
  },
  {
   "cell_type": "code",
   "execution_count": 4,
   "metadata": {},
   "outputs": [
    {
     "name": "stderr",
     "output_type": "stream",
     "text": [
      "WARNING:root:HM4040: Specified channel not available\n"
     ]
    },
    {
     "name": "stdout",
     "output_type": "stream",
     "text": [
      "Currently the device is configuring channel: 1\n",
      "Now the device is on channel: 2\n"
     ]
    }
   ],
   "source": [
    "# create a dc signal\n",
    "SigGen.dc(dc=5)\n",
    "print(SigGen)\n",
    "# create a ramp signal\n",
    "SigGen.ramp(freq=1e3, amp=0.5, dc=1)\n",
    "print(SigGen)"
   ]
  },
  {
   "cell_type": "markdown",
   "metadata": {},
   "source": [
    "## Printing the Object\n",
    "\n",
    "Printing the object provides information about what the KS33522B is doing"
   ]
  },
  {
   "cell_type": "code",
   "execution_count": null,
   "metadata": {},
   "outputs": [],
   "source": [
    "print(SigGen)"
   ]
  }
 ],
 "metadata": {
  "kernelspec": {
   "display_name": "Python 3",
   "language": "python",
   "name": "python3"
  },
  "language_info": {
   "codemirror_mode": {
    "name": "ipython",
    "version": 3
   },
   "file_extension": ".py",
   "mimetype": "text/x-python",
   "name": "python",
   "nbconvert_exporter": "python",
   "pygments_lexer": "ipython3",
   "version": "3.7.6"
  }
 },
 "nbformat": 4,
 "nbformat_minor": 2
}
